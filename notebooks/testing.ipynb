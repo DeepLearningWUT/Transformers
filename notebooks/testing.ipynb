{
 "cells": [
  {
   "cell_type": "markdown",
   "id": "5489da8f",
   "metadata": {},
   "source": [
    "# Tensor operations"
   ]
  },
  {
   "cell_type": "code",
   "execution_count": 1,
   "id": "c5cab704",
   "metadata": {},
   "outputs": [],
   "source": [
    "import torch"
   ]
  },
  {
   "cell_type": "code",
   "execution_count": null,
   "id": "7571b9bb",
   "metadata": {},
   "outputs": [
    {
     "data": {
      "text/plain": [
       "tensor([[70, 63, 68, 75],\n",
       "        [35, 42, 30, 86],\n",
       "        [ 5, 80, 11, 73],\n",
       "        [57, 55, 59, 42],\n",
       "        [96, 58, 95, 58]])"
      ]
     },
     "metadata": {},
     "output_type": "display_data"
    }
   ],
   "source": [
    "tensor_test = np.random.randint(0, 100, 20).reshape(4,5)\n",
    "tensor_test = torch.tensor(tensor_test).view(5,4)\n",
    "tensor_test"
   ]
  },
  {
   "cell_type": "code",
   "execution_count": null,
   "id": "18ea5383",
   "metadata": {},
   "outputs": [
    {
     "data": {
      "text/plain": [
       "tensor([[70, 35,  5, 57, 96],\n",
       "        [63, 42, 80, 55, 58],\n",
       "        [68, 30, 11, 59, 95],\n",
       "        [75, 86, 73, 42, 58]])"
      ]
     },
     "metadata": {},
     "output_type": "display_data"
    }
   ],
   "source": [
    "tensor_test.transpose(0, 1)"
   ]
  }
 ],
 "metadata": {
  "kernelspec": {
   "display_name": "DLKernel",
   "language": "python",
   "name": "dlkernel"
  },
  "language_info": {
   "codemirror_mode": {
    "name": "ipython",
    "version": 3
   },
   "file_extension": ".py",
   "mimetype": "text/x-python",
   "name": "python",
   "nbconvert_exporter": "python",
   "pygments_lexer": "ipython3",
   "version": "3.13.3"
  }
 },
 "nbformat": 4,
 "nbformat_minor": 5
}
