{
 "cells": [
  {
   "cell_type": "markdown",
   "id": "48e99697-87b6-41db-a266-00fd497dc27e",
   "metadata": {},
   "source": [
    "# Mlflow usage demonstarion"
   ]
  },
  {
   "cell_type": "code",
   "execution_count": 1,
   "id": "dcfec788-5269-4f4e-b976-3400fc6c42aa",
   "metadata": {},
   "outputs": [],
   "source": [
    "from torch.utils import data\n",
    "from torchaudio import datasets"
   ]
  },
  {
   "cell_type": "code",
   "execution_count": 57,
   "id": "63896173-b149-47a8-a46f-105d2361b599",
   "metadata": {},
   "outputs": [],
   "source": [
    "import numpy as np"
   ]
  },
  {
   "cell_type": "code",
   "execution_count": 15,
   "id": "121a877e-1d5c-46a0-b5d6-2b6c3c6615ff",
   "metadata": {},
   "outputs": [],
   "source": [
    "# Dummy Classifier\n",
    "\n",
    "trainPath = \"../data/raw/train/\""
   ]
  },
  {
   "cell_type": "code",
   "execution_count": 91,
   "id": "a0802d76-9487-41e6-9db1-e901bd44f22c",
   "metadata": {},
   "outputs": [],
   "source": [
    "import os\n",
    "\n",
    "class TensorflowDataset:\n",
    "    \"\"\"\n",
    "    Import paths of files\n",
    "    \"\"\"\n",
    "    def __init__(self, directory : str):\n",
    "        self.directory = str\n",
    "        self.paths = []\n",
    "        self.labels = []\n",
    "        self.background_noise_label = \"_background_noise_\"\n",
    "\n",
    "        for i, (root, dirs, files) in enumerate(os.walk(trainPath)):\n",
    "\n",
    "            if files:\n",
    "                label = os.path.normpath(root).split(\"\\\\\")[-1]\n",
    "                if label != self.background_noise_label:\n",
    "                    for file in files:\n",
    "                        filepath = os.path.normpath(os.path.join(root, file))\n",
    "                    \n",
    "                        self.paths.append(filepath)\n",
    "                        self.labels.append(label)\n",
    "\n",
    "        assert len(np.unique(self.labels)) == 30\n",
    "\n",
    "    def __len__(self):\n",
    "        return len(self.paths)\n",
    "\n",
    "    def __getitem__(self, idx):\n",
    "        return self.paths[idx]"
   ]
  },
  {
   "cell_type": "code",
   "execution_count": 92,
   "id": "f2e7e38d-efa1-46bc-a231-56263444108a",
   "metadata": {},
   "outputs": [],
   "source": [
    "trainset = TensorflowDataset(trainPath)"
   ]
  },
  {
   "cell_type": "code",
   "execution_count": 93,
   "id": "d10b87e7-7561-4217-85ed-857e746d2047",
   "metadata": {},
   "outputs": [],
   "source": [
    "trainloader = data.DataLoader(trainset)"
   ]
  },
  {
   "cell_type": "code",
   "execution_count": 95,
   "id": "56ed187f-f7fc-44ab-bcb8-7d2292ecbe45",
   "metadata": {},
   "outputs": [
    {
     "name": "stdout",
     "output_type": "stream",
     "text": [
      "['..\\\\data\\\\raw\\\\train\\\\bed\\\\00176480_nohash_0.wav']\n"
     ]
    }
   ],
   "source": [
    "for batch in trainloader:\n",
    "    # Process your batch\n",
    "    print(batch)\n",
    "    break"
   ]
  }
 ],
 "metadata": {
  "kernelspec": {
   "display_name": "DeepLearning",
   "language": "python",
   "name": "deeplearning"
  },
  "language_info": {
   "codemirror_mode": {
    "name": "ipython",
    "version": 3
   },
   "file_extension": ".py",
   "mimetype": "text/x-python",
   "name": "python",
   "nbconvert_exporter": "python",
   "pygments_lexer": "ipython3",
   "version": "3.10.10"
  }
 },
 "nbformat": 4,
 "nbformat_minor": 5
}
