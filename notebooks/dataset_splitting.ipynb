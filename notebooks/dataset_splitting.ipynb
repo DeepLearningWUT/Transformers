{
 "cells": [
  {
   "cell_type": "markdown",
   "id": "039aa35b",
   "metadata": {},
   "source": [
    "# Converting unstructured test set"
   ]
  },
  {
   "cell_type": "code",
   "execution_count": null,
   "id": "f9b8da98",
   "metadata": {},
   "outputs": [
    {
     "name": "stdout",
     "output_type": "stream",
     "text": [
      "No. testing files: 6835\n",
      "No. validation files: 6798\n"
     ]
    }
   ],
   "source": [
    "import pandas as pd\n",
    "import os, pathlib, shutil\n",
    "\n",
    "# whole data directory\n",
    "datapath = pathlib.Path(\"/home/mpuscian/Desktop/repozytoria/MINI_projects/Transformers/data/\")\n",
    "\n",
    "# source path with all train, validation and test files from kaggle\n",
    "source_path = datapath.joinpath(\"raw/train/\")\n",
    "\n",
    "destination_path = datapath.joinpath(\"processed/splited_data/\")\n",
    "\n",
    "testing_list_df = pd.read_csv(datapath.joinpath(\"raw/testing_list.txt\"), names=[\"filename\"])\n",
    "validation_list_df = pd.read_csv(datapath.joinpath(\"raw/validation_list.txt\"), names=[\"filename\"])\n",
    "\n",
    "testing_list = testing_list_df.filename.to_list()\n",
    "validation_list = validation_list_df.filename.to_list()\n",
    "print(f\"No. testing files: {len(testing_list)}\\nNo. validation files: {len(validation_list)}\")\n"
   ]
  },
  {
   "cell_type": "code",
   "execution_count": null,
   "id": "9a21675f",
   "metadata": {},
   "outputs": [],
   "source": [
    "def get_ignore_func(files_to_ignore):\n",
    "    def ignore_func(directory, contents):\n",
    "        # Get paths relative to the root directory\n",
    "        ignore_set = set()\n",
    "        for path in files_to_ignore:\n",
    "            # Extract just the filename from the path, assuming the format 'folder/filename'\n",
    "            _, filename = os.path.split(path)\n",
    "            ignore_set.add(filename)\n",
    "        \n",
    "        # Return files that should be ignored in the current directory\n",
    "        return [item for item in contents if item in ignore_set]\n",
    "    \n",
    "    return ignore_func\n",
    "\n",
    "def copy_specific_files(source_root, dest_root, file_list):\n",
    "    # Ensure destination directory exists\n",
    "    os.makedirs(dest_root, exist_ok=True)\n",
    "    \n",
    "    # Process each file in the list\n",
    "    for file_path in file_list:\n",
    "        folder, filename = os.path.split(file_path)\n",
    "        \n",
    "        # Create the destination folder if it doesn't exist\n",
    "        dest_folder = os.path.join(dest_root, folder)\n",
    "        os.makedirs(dest_folder, exist_ok=True)\n",
    "        \n",
    "        # Copy the file\n",
    "        source_file = os.path.join(source_root, file_path)\n",
    "        dest_file = os.path.join(dest_root, file_path)\n",
    "        \n",
    "        if os.path.exists(source_file):\n",
    "            shutil.copy2(source_file, dest_file)\n",
    "        else:\n",
    "            print(f\"Warning: Source file not found: {source_file}\")"
   ]
  },
  {
   "cell_type": "code",
   "execution_count": null,
   "id": "23b08211",
   "metadata": {},
   "outputs": [],
   "source": [
    "# create folders if don't exist\n",
    "destination_train = pathlib.Path(destination_path).joinpath(\"train\")\n",
    "destination_validation = pathlib.Path(destination_path).joinpath(\"validation\")\n",
    "destination_test = pathlib.Path(destination_path).joinpath(\"test\")\n",
    "\n",
    "destination_train.mkdir(parents=True, exist_ok=True)\n",
    "destination_validation.mkdir(parents=True, exist_ok=True)\n",
    "destination_test.mkdir(parents=True, exist_ok=True)\n",
    "\n",
    "all_exclude_files = testing_list + validation_list\n",
    "\n",
    "shutil.copytree(source_path, destination_train.as_posix(), ignore=get_ignore_func(all_exclude_files), dirs_exist_ok=True)\n",
    "copy_specific_files(source_path, destination_validation, validation_list)\n",
    "copy_specific_files(source_path, destination_test, testing_list)\n"
   ]
  }
 ],
 "metadata": {
  "language_info": {
   "name": "python"
  }
 },
 "nbformat": 4,
 "nbformat_minor": 5
}
