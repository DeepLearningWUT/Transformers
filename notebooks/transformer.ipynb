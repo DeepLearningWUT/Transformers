{
 "cells": [
  {
   "cell_type": "markdown",
   "id": "48e99697-87b6-41db-a266-00fd497dc27e",
   "metadata": {},
   "source": [
    "# Creating spectrograms"
   ]
  },
  {
   "cell_type": "code",
   "execution_count": 140,
   "id": "dcfec788-5269-4f4e-b976-3400fc6c42aa",
   "metadata": {},
   "outputs": [],
   "source": [
    "import torch\n",
    "from torch.utils import data\n",
    "from torchaudio import datasets\n",
    "import numpy as np\n",
    "import os\n",
    "from scipy.io import wavfile\n",
    "from scipy import signal\n",
    "from tqdm import tqdm\n",
    "\n",
    "from torchaudio import transforms as tf_audio\n",
    "from torchvision import transforms as tf_img\n",
    "from torchvision.transforms import functional as fn\n",
    "import torch.nn.functional as fn_t\n",
    "import torch.nn as nn\n",
    "\n",
    "import einops\n",
    "import matplotlib.pyplot as plt\n",
    "import librosa\n",
    "import noisereduce as nr\n",
    "\n",
    "trainPath = \"../data/raw/train/bed/\""
   ]
  },
  {
   "cell_type": "code",
   "execution_count": 2,
   "id": "a0802d76-9487-41e6-9db1-e901bd44f22c",
   "metadata": {},
   "outputs": [],
   "source": [
    "class TensorflowDataset:\n",
    "    \"\"\"\n",
    "    Import paths of files\n",
    "    \"\"\"\n",
    "    def __init__(self, directory : str, transforms, DEBUG : bool = False):\n",
    "        self.directory = str\n",
    "        self.paths = []\n",
    "        self.labels = []\n",
    "        self.background_noise_label = \"_background_noise_\"\n",
    "        self.transforms = transforms\n",
    "\n",
    "        for i, (root, dirs, files) in enumerate(os.walk(trainPath)):\n",
    "\n",
    "            if files:\n",
    "                label = os.path.normpath(root).split(\"\\\\\")[-1]\n",
    "                if label != self.background_noise_label:\n",
    "                    for file in tqdm(files):\n",
    "                        filepath = os.path.normpath(os.path.join(root, file))\n",
    "                    \n",
    "                        self.paths.append(filepath)\n",
    "                        self.labels.append(label)\n",
    "\n",
    "        if not DEBUG:\n",
    "            assert len(np.unique(self.labels)) == 30\n",
    "\n",
    "    def __len__(self):\n",
    "        return len(self.paths)\n",
    "\n",
    "    def __getitem__(self, idx):\n",
    "        file_sr, file_data = wavfile.read(self.paths[idx])\n",
    "        \n",
    "        if self.transforms:\n",
    "            return self.transforms(file_data)\n",
    "        else:\n",
    "            return file_data"
   ]
  },
  {
   "cell_type": "code",
   "execution_count": 3,
   "id": "960957d0-33db-4de9-af0e-5d3c5e921d3f",
   "metadata": {},
   "outputs": [],
   "source": [
    "class NoiseReducer:\n",
    "    def __init__(self, sample_noise = None, sr=16000, **kwargs):\n",
    "        self.sample_noise = sample_noise\n",
    "        self.kwargs = kwargs\n",
    "        self.sr = sr\n",
    "\n",
    "    def __call__(self, data):\n",
    "        if self.sample_noise:\n",
    "            noise_sample = data[:int(self.sr * 0.5)]\n",
    "        return nr.reduce_noise(y=data, y_noise = noise_sample if self.sample_noise else None, sr=self.sr, **self.kwargs)\n",
    "\n",
    "class Resample:\n",
    "    def __init__(self, sample_rate = 16000):\n",
    "        self.sr = sample_rate\n",
    "    def __call__(self, data):\n",
    "        return librosa.resample(data.astype(float), orig_sr=len(data), target_sr = self.sr)\n",
    "\n",
    "class ToFloatTensor:\n",
    "    def __call__(self, data):\n",
    "        return torch.from_numpy(data).float()\n",
    "\n",
    "class HannWindow:\n",
    "    def __call__(self, data):\n",
    "        return signal.windows.hann(self.window_length)"
   ]
  },
  {
   "cell_type": "code",
   "execution_count": 36,
   "id": "f2e7e38d-efa1-46bc-a231-56263444108a",
   "metadata": {},
   "outputs": [
    {
     "name": "stderr",
     "output_type": "stream",
     "text": [
      "100%|██████████| 1713/1713 [00:00<00:00, 450234.54it/s]\n"
     ]
    }
   ],
   "source": [
    "SAMPLE_RATE = 16000\n",
    "\n",
    "transforms = tf_img.Compose([\n",
    "    NoiseReducer(sample_noise=True, sr=16000, stationary=True),\n",
    "    Resample(sample_rate=16000),\n",
    "    ToFloatTensor(),\n",
    "    tf_audio.MelSpectrogram(sample_rate=SAMPLE_RATE, n_mels=50, n_fft=358),\n",
    "])\n",
    "\n",
    "\n",
    "trainset = TensorflowDataset(trainPath, transforms=transforms, DEBUG=True)\n",
    "trainloader = data.DataLoader(trainset, batch_size=6)"
   ]
  },
  {
   "cell_type": "code",
   "execution_count": null,
   "id": "5b83438a-da46-4bd1-b5fd-2cdc00439505",
   "metadata": {},
   "outputs": [],
   "source": [
    "def display_spectrogram(spec : torch.tensor):\n",
    "    fig, ax = plt.subplots()\n",
    "    spec_db = librosa.power_to_db(spec.numpy())\n",
    "    ax.imshow(spec_db, origin=\"lower\", aspect=\"auto\", interpolation=\"nearest\")\n",
    "    plt.show()"
   ]
  },
  {
   "cell_type": "code",
   "execution_count": null,
   "id": "78d7c1e9-061e-4afd-8ae6-88e25e273484",
   "metadata": {},
   "outputs": [
    {
     "data": {
      "image/png": "[encoded data removed]",
      "text/plain": [
       "<Figure size 640x480 with 1 Axes>"
      ]
     },
     "metadata": {},
     "output_type": "display_data"
    }
   ],
   "source": [
    "A = next(iter(trainloader))"
   ]
  },
  {
   "cell_type": "markdown",
   "id": "02e4663e-26dc-4972-ab7c-7f06ea3bd128",
   "metadata": {},
   "source": [
    "# Patch embeddings"
   ]
  },
  {
   "cell_type": "code",
   "execution_count": 61,
   "id": "8166c205",
   "metadata": {},
   "outputs": [],
   "source": [
    "class PatchEmbedding:\n",
    "    \"\"\"\n",
    "    Takes as input image n by m.\n",
    "    Outputs tensor (batch_qantity, num_of_patches, patch_x, patch_y)\n",
    "    \"\"\"\n",
    "\n",
    "    def __init__(self, img_dim, patch_dim = (10,10)):\n",
    "        self.img_dim = img_dim\n",
    "        self.patch_dim = patch_dim\n",
    "\n",
    "        assert img_dim[0] % patch_dim[0] == 0\n",
    "        assert img_dim[1] % patch_dim[1] == 0\n",
    "        \n",
    "    def __call__(self, img):\n",
    "        \"\"\"\n",
    "        assert img.dim() == 2 # for debuggin, later in batch change to 3\n",
    "\n",
    "        patches = fn_t.unfold(img, kernel_size=self.patch_dim, stride=self.patch_dim)\n",
    "\n",
    "        patches_r = img.shape[0] / self.patch_dim[0]\n",
    "        patches_c = img.shape[1] / self.patch_dim[1]\n",
    "        total_patches = patches_c * patches_r\n",
    "\n",
    "        return patches.reshape(1, total_patches, 1, self.patch_dim[0], self.patch_dim[1])\n",
    "        \"\"\"\n",
    "        patches = einops.rearrange(\n",
    "        img, \n",
    "        '(h ph) (w pw) -> (h w) ph pw', \n",
    "        ph=self.patch_dim[0], pw=self.patch_dim[1]\n",
    "        )\n",
    "        return patches"
   ]
  },
  {
   "cell_type": "code",
   "execution_count": 70,
   "id": "5338738c",
   "metadata": {},
   "outputs": [],
   "source": [
    "pe = PatchEmbedding(img_dim=(50, 90), patch_dim=(25,45))"
   ]
  },
  {
   "cell_type": "code",
   "execution_count": 130,
   "id": "b2a10d99",
   "metadata": {},
   "outputs": [
    {
     "data": {
      "image/png": "[encoded data removed]",
      "text/plain": [
       "<Figure size 640x480 with 1 Axes>"
      ]
     },
     "metadata": {},
     "output_type": "display_data"
    }
   ],
   "source": [
    "display_spectrogram(A[0])"
   ]
  },
  {
   "cell_type": "code",
   "execution_count": 129,
   "id": "f00fe256",
   "metadata": {},
   "outputs": [
    {
     "data": {
      "image/png": "[encoded data removed]",
      "text/plain": [
       "<Figure size 640x480 with 4 Axes>"
      ]
     },
     "metadata": {},
     "output_type": "display_data"
    }
   ],
   "source": [
    "fig, axes = plt.subplots(2, 2)\n",
    "r, c = 0, 0\n",
    "for i, patch in enumerate(pe(A[0])):\n",
    "    spec_db = librosa.power_to_db(patch.numpy())\n",
    "    axes[1-r][c].imshow(spec_db, origin=\"lower\", aspect=\"auto\", interpolation=\"nearest\")\n",
    "    \n",
    "    c += 1\n",
    "    if c >= 2:\n",
    "        c = 0\n",
    "        r += 1\n",
    "        \n",
    "    if r >= 2:\n",
    "        break\n",
    "\n",
    "plt.show()"
   ]
  },
  {
   "cell_type": "code",
   "execution_count": 138,
   "id": "c2f2b450",
   "metadata": {},
   "outputs": [],
   "source": [
    "tensor = A[0]"
   ]
  },
  {
   "cell_type": "code",
   "execution_count": 139,
   "id": "e4c3b4fd",
   "metadata": {},
   "outputs": [
    {
     "data": {
      "text/plain": [
       "tensor([0.0000e+00, 0.0000e+00, 0.0000e+00,  ..., 3.9854e+01, 5.4233e-08,\n",
       "        0.0000e+00])"
      ]
     },
     "execution_count": 139,
     "metadata": {},
     "output_type": "execute_result"
    }
   ],
   "source": [
    "tensor.flatten()"
   ]
  },
  {
   "cell_type": "code",
   "execution_count": null,
   "id": "37bd081d",
   "metadata": {},
   "outputs": [],
   "source": [
    "def attention(Q, K, V):\n",
    "    \"\"\"\n",
    "    Perform attention operation\n",
    "    \"\"\"\n",
    "    d_k = Q.size(-1)\n",
    "    out = torch.matmul(Q, K.transpose()) / torch.math.sqrt(d_k) # transpose arguments?\n",
    "    out = torch.matmul(out.softmax(), V)\n",
    "    return out\n",
    "\n"
   ]
  },
  {
   "cell_type": "code",
   "execution_count": null,
   "id": "c254c34c",
   "metadata": {},
   "outputs": [],
   "source": [
    "class MultiHead(nn.Module):\n",
    "    \n",
    "    # Concat heads\n",
    "    # Matmul W^O"
   ]
  },
  {
   "cell_type": "code",
   "execution_count": null,
   "id": "653939f4",
   "metadata": {},
   "outputs": [],
   "source": [
    "class Encoder(nn.Module):\n",
    "    def __init__(self):\n",
    "        super.__init__()\n",
    "        # layer normalization\n",
    "        # MultiHead\n",
    "        # residual connection\n",
    "        # layer normalization\n",
    "        # MLP\n",
    "        # residual connection\n",
    "\n",
    "    def forward(self, x):\n",
    "        return x"
   ]
  },
  {
   "cell_type": "code",
   "execution_count": null,
   "id": "3e2978ce",
   "metadata": {},
   "outputs": [],
   "source": [
    "class LinearProjectionOfPatches(nn.Module):\n",
    "    def __init__(self, dim_in, dim_out):\n",
    "        super.__init__()\n",
    "\n",
    "        self.L1 = nn.Linear(dim_in, dim_out)\n",
    "        \n",
    "    def forward(self, x):\n",
    "        x = self.L1(x)\n",
    "        return x\n",
    "\n",
    "class Transformer(nn.Module):\n",
    "    def __init__(self):\n",
    "        super().__init__()\n",
    "        img_dim=(50, 90)\n",
    "        patch_dim=(10,10)\n",
    "        Lin1Dim = 128\n",
    "\n",
    "        self.PE = PatchEmbedding(img_dim=img_dim, patch_dim=patch_dim)\n",
    "        self.PELin = LinearProjectionOfPatches(img_dim[0] * img_dim[1], Lin1Dim)\n",
    "\n",
    "        self.clt = nn.Parameter(torch.zeros(Lin1Dim))\n",
    "        self.clt.requires_grad = True\n",
    "\n",
    "        # add positional embeddings\n",
    "\n",
    "    def forward(self, x):\n",
    "        x = self.PE(x)\n",
    "        x = self.PELin(x)\n",
    "        x = torch.concat(x, self.clt)\n",
    "        # Encoder()\n",
    "\n",
    "\n",
    "        return x"
   ]
  },
  {
   "cell_type": "markdown",
   "id": "c4a5cc7a",
   "metadata": {},
   "source": [
    "# Classification token"
   ]
  },
  {
   "cell_type": "markdown",
   "id": "ebb13da7-f801-4bf0-b663-6cc82c795871",
   "metadata": {},
   "source": [
    "# Positional embeddings"
   ]
  },
  {
   "cell_type": "markdown",
   "id": "ad3c9d05",
   "metadata": {},
   "source": [
    "# Multi-Head Attention"
   ]
  },
  {
   "cell_type": "markdown",
   "id": "931594ab",
   "metadata": {},
   "source": [
    "# Residual layers"
   ]
  }
 ],
 "metadata": {
  "kernelspec": {
   "display_name": "DeepLearning",
   "language": "python",
   "name": "python3"
  },
  "language_info": {
   "codemirror_mode": {
    "name": "ipython",
    "version": 3
   },
   "file_extension": ".py",
   "mimetype": "text/x-python",
   "name": "python",
   "nbconvert_exporter": "python",
   "pygments_lexer": "ipython3",
   "version": "3.13.3"
  }
 },
 "nbformat": 4,
 "nbformat_minor": 5
}
