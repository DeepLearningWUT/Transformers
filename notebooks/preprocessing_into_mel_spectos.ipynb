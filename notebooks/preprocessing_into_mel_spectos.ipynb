{
 "cells": [
  {
   "cell_type": "code",
   "execution_count": null,
   "id": "fc8c1222",
   "metadata": {},
   "outputs": [
    {
     "name": "stderr",
     "output_type": "stream",
     "text": [
      "c:\\Users\\cypri\\anaconda3\\envs\\Torch_Intro_ML\\Lib\\site-packages\\torchaudio\\functional\\functional.py:584: UserWarning: At least one mel filterbank has all zero values. The value for `n_mels` (128) may be set too high. Or, the value for `n_freqs` (201) may be set too low.\n",
      "  warnings.warn(\n"
     ]
    },
    {
     "name": "stdout",
     "output_type": "stream",
     "text": [
      "Processing audio files from ../data/raw/train/audio to ../data/processed/train/audio\n",
      "Processing directory: ../data/raw/train/audio\n",
      "Processing directory: ../data/raw/train/audio\\bed\n",
      "Processed 0 files so far...\n"
     ]
    },
    {
     "name": "stderr",
     "output_type": "stream",
     "text": [
      "Processing class 'bed': 100%|██████████| 1713/1713 [00:28<00:00, 59.24it/s]\n"
     ]
    },
    {
     "name": "stdout",
     "output_type": "stream",
     "text": [
      "Processing directory: ../data/raw/train/audio\\bird\n",
      "Processed 0 files so far...\n"
     ]
    },
    {
     "name": "stderr",
     "output_type": "stream",
     "text": [
      "Processing class 'bird': 100%|██████████| 1731/1731 [00:25<00:00, 68.79it/s]\n"
     ]
    },
    {
     "name": "stdout",
     "output_type": "stream",
     "text": [
      "Processing directory: ../data/raw/train/audio\\cat\n",
      "Processed 0 files so far...\n"
     ]
    },
    {
     "name": "stderr",
     "output_type": "stream",
     "text": [
      "Processing class 'cat': 100%|██████████| 1733/1733 [00:27<00:00, 62.65it/s]\n"
     ]
    },
    {
     "name": "stdout",
     "output_type": "stream",
     "text": [
      "Processing directory: ../data/raw/train/audio\\dog\n",
      "Processed 0 files so far...\n"
     ]
    },
    {
     "name": "stderr",
     "output_type": "stream",
     "text": [
      "Processing class 'dog': 100%|██████████| 1746/1746 [00:51<00:00, 34.04it/s]\n"
     ]
    },
    {
     "name": "stdout",
     "output_type": "stream",
     "text": [
      "Processing directory: ../data/raw/train/audio\\down\n",
      "Processed 0 files so far...\n"
     ]
    },
    {
     "name": "stderr",
     "output_type": "stream",
     "text": [
      "Processing class 'down': 100%|██████████| 2359/2359 [01:04<00:00, 36.81it/s]\n"
     ]
    },
    {
     "name": "stdout",
     "output_type": "stream",
     "text": [
      "Processing directory: ../data/raw/train/audio\\eight\n",
      "Processed 0 files so far...\n"
     ]
    },
    {
     "name": "stderr",
     "output_type": "stream",
     "text": [
      "Processing class 'eight': 100%|██████████| 2352/2352 [01:03<00:00, 37.08it/s]\n"
     ]
    },
    {
     "name": "stdout",
     "output_type": "stream",
     "text": [
      "Processing directory: ../data/raw/train/audio\\five\n",
      "Processed 0 files so far...\n"
     ]
    },
    {
     "name": "stderr",
     "output_type": "stream",
     "text": [
      "Processing class 'five': 100%|██████████| 2357/2357 [01:17<00:00, 30.25it/s]\n"
     ]
    },
    {
     "name": "stdout",
     "output_type": "stream",
     "text": [
      "Processing directory: ../data/raw/train/audio\\four\n",
      "Processed 0 files so far...\n"
     ]
    },
    {
     "name": "stderr",
     "output_type": "stream",
     "text": [
      "Processing class 'four': 100%|██████████| 2372/2372 [01:11<00:00, 33.08it/s]\n"
     ]
    },
    {
     "name": "stdout",
     "output_type": "stream",
     "text": [
      "Processing directory: ../data/raw/train/audio\\go\n",
      "Processed 0 files so far...\n"
     ]
    },
    {
     "name": "stderr",
     "output_type": "stream",
     "text": [
      "Processing class 'go': 100%|██████████| 2372/2372 [01:40<00:00, 23.60it/s]\n"
     ]
    },
    {
     "name": "stdout",
     "output_type": "stream",
     "text": [
      "Processing directory: ../data/raw/train/audio\\happy\n",
      "Processed 0 files so far...\n"
     ]
    },
    {
     "name": "stderr",
     "output_type": "stream",
     "text": [
      "Processing class 'happy': 100%|██████████| 1742/1742 [00:34<00:00, 49.80it/s]\n"
     ]
    },
    {
     "name": "stdout",
     "output_type": "stream",
     "text": [
      "Processing directory: ../data/raw/train/audio\\house\n",
      "Processed 0 files so far...\n"
     ]
    },
    {
     "name": "stderr",
     "output_type": "stream",
     "text": [
      "Processing class 'house': 100%|██████████| 1750/1750 [00:29<00:00, 60.12it/s]\n"
     ]
    },
    {
     "name": "stdout",
     "output_type": "stream",
     "text": [
      "Processing directory: ../data/raw/train/audio\\left\n",
      "Processed 0 files so far...\n"
     ]
    },
    {
     "name": "stderr",
     "output_type": "stream",
     "text": [
      "Processing class 'left': 100%|██████████| 2353/2353 [00:35<00:00, 67.11it/s]\n"
     ]
    },
    {
     "name": "stdout",
     "output_type": "stream",
     "text": [
      "Processing directory: ../data/raw/train/audio\\marvin\n",
      "Processed 0 files so far...\n"
     ]
    },
    {
     "name": "stderr",
     "output_type": "stream",
     "text": [
      "Processing class 'marvin': 100%|██████████| 1746/1746 [00:26<00:00, 66.58it/s]\n"
     ]
    },
    {
     "name": "stdout",
     "output_type": "stream",
     "text": [
      "Processing directory: ../data/raw/train/audio\\nine\n",
      "Processed 0 files so far...\n"
     ]
    },
    {
     "name": "stderr",
     "output_type": "stream",
     "text": [
      "Processing class 'nine': 100%|██████████| 2364/2364 [01:08<00:00, 34.39it/s]\n"
     ]
    },
    {
     "name": "stdout",
     "output_type": "stream",
     "text": [
      "Processing directory: ../data/raw/train/audio\\no\n",
      "Processed 0 files so far...\n"
     ]
    },
    {
     "name": "stderr",
     "output_type": "stream",
     "text": [
      "Processing class 'no': 100%|██████████| 2375/2375 [01:12<00:00, 32.64it/s]\n"
     ]
    },
    {
     "name": "stdout",
     "output_type": "stream",
     "text": [
      "Processing directory: ../data/raw/train/audio\\off\n",
      "Processed 0 files so far...\n"
     ]
    },
    {
     "name": "stderr",
     "output_type": "stream",
     "text": [
      "Processing class 'off': 100%|██████████| 2357/2357 [01:50<00:00, 21.33it/s]\n"
     ]
    },
    {
     "name": "stdout",
     "output_type": "stream",
     "text": [
      "Processing directory: ../data/raw/train/audio\\on\n",
      "Processed 0 files so far...\n"
     ]
    },
    {
     "name": "stderr",
     "output_type": "stream",
     "text": [
      "Processing class 'on': 100%|██████████| 2367/2367 [01:03<00:00, 37.25it/s]\n"
     ]
    },
    {
     "name": "stdout",
     "output_type": "stream",
     "text": [
      "Processing directory: ../data/raw/train/audio\\one\n",
      "Processed 0 files so far...\n"
     ]
    },
    {
     "name": "stderr",
     "output_type": "stream",
     "text": [
      "Processing class 'one': 100%|██████████| 2370/2370 [01:14<00:00, 31.93it/s]\n"
     ]
    },
    {
     "name": "stdout",
     "output_type": "stream",
     "text": [
      "Processing directory: ../data/raw/train/audio\\right\n",
      "Processed 0 files so far...\n"
     ]
    },
    {
     "name": "stderr",
     "output_type": "stream",
     "text": [
      "Processing class 'right': 100%|██████████| 2367/2367 [01:49<00:00, 21.63it/s]\n"
     ]
    },
    {
     "name": "stdout",
     "output_type": "stream",
     "text": [
      "Processing directory: ../data/raw/train/audio\\seven\n",
      "Processed 0 files so far...\n"
     ]
    },
    {
     "name": "stderr",
     "output_type": "stream",
     "text": [
      "Processing class 'seven': 100%|██████████| 2377/2377 [01:06<00:00, 35.93it/s]\n"
     ]
    },
    {
     "name": "stdout",
     "output_type": "stream",
     "text": [
      "Processing directory: ../data/raw/train/audio\\sheila\n",
      "Processed 0 files so far...\n"
     ]
    },
    {
     "name": "stderr",
     "output_type": "stream",
     "text": [
      "Processing class 'sheila': 100%|██████████| 1734/1734 [00:32<00:00, 52.68it/s]\n"
     ]
    },
    {
     "name": "stdout",
     "output_type": "stream",
     "text": [
      "Processing directory: ../data/raw/train/audio\\six\n",
      "Processed 0 files so far...\n"
     ]
    },
    {
     "name": "stderr",
     "output_type": "stream",
     "text": [
      "Processing class 'six': 100%|██████████| 2369/2369 [00:43<00:00, 54.94it/s]\n"
     ]
    },
    {
     "name": "stdout",
     "output_type": "stream",
     "text": [
      "Processing directory: ../data/raw/train/audio\\stop\n",
      "Processed 0 files so far...\n"
     ]
    },
    {
     "name": "stderr",
     "output_type": "stream",
     "text": [
      "Processing class 'stop': 100%|██████████| 2380/2380 [00:44<00:00, 53.62it/s]\n"
     ]
    },
    {
     "name": "stdout",
     "output_type": "stream",
     "text": [
      "Processing directory: ../data/raw/train/audio\\three\n",
      "Processed 0 files so far...\n"
     ]
    },
    {
     "name": "stderr",
     "output_type": "stream",
     "text": [
      "Processing class 'three': 100%|██████████| 2356/2356 [00:45<00:00, 52.23it/s]\n"
     ]
    },
    {
     "name": "stdout",
     "output_type": "stream",
     "text": [
      "Processing directory: ../data/raw/train/audio\\tree\n",
      "Processed 0 files so far...\n"
     ]
    },
    {
     "name": "stderr",
     "output_type": "stream",
     "text": [
      "Processing class 'tree': 100%|██████████| 1733/1733 [00:39<00:00, 44.36it/s]\n"
     ]
    },
    {
     "name": "stdout",
     "output_type": "stream",
     "text": [
      "Processing directory: ../data/raw/train/audio\\two\n",
      "Processed 0 files so far...\n"
     ]
    },
    {
     "name": "stderr",
     "output_type": "stream",
     "text": [
      "Processing class 'two': 100%|██████████| 2373/2373 [00:44<00:00, 53.83it/s]\n"
     ]
    },
    {
     "name": "stdout",
     "output_type": "stream",
     "text": [
      "Processing directory: ../data/raw/train/audio\\up\n",
      "Processed 0 files so far...\n"
     ]
    },
    {
     "name": "stderr",
     "output_type": "stream",
     "text": [
      "Processing class 'up': 100%|██████████| 2375/2375 [00:42<00:00, 56.14it/s]\n"
     ]
    },
    {
     "name": "stdout",
     "output_type": "stream",
     "text": [
      "Processing directory: ../data/raw/train/audio\\wow\n",
      "Processed 0 files so far...\n"
     ]
    },
    {
     "name": "stderr",
     "output_type": "stream",
     "text": [
      "Processing class 'wow': 100%|██████████| 1745/1745 [00:31<00:00, 55.85it/s]\n"
     ]
    },
    {
     "name": "stdout",
     "output_type": "stream",
     "text": [
      "Processing directory: ../data/raw/train/audio\\yes\n",
      "Processed 0 files so far...\n"
     ]
    },
    {
     "name": "stderr",
     "output_type": "stream",
     "text": [
      "Processing class 'yes': 100%|██████████| 2377/2377 [00:42<00:00, 55.41it/s]\n"
     ]
    },
    {
     "name": "stdout",
     "output_type": "stream",
     "text": [
      "Processing directory: ../data/raw/train/audio\\zero\n",
      "Processed 0 files so far...\n"
     ]
    },
    {
     "name": "stderr",
     "output_type": "stream",
     "text": [
      "Processing class 'zero': 100%|██████████| 2376/2376 [00:42<00:00, 55.54it/s]\n"
     ]
    },
    {
     "name": "stdout",
     "output_type": "stream",
     "text": [
      "Processing directory: ../data/raw/train/audio\\_background_noise_\n",
      "Processed 0 files so far...\n"
     ]
    },
    {
     "name": "stderr",
     "output_type": "stream",
     "text": [
      "Processing class '_background_noise_':   0%|          | 0/7 [00:00<?, ?it/s]C:\\Users\\cypri\\AppData\\Local\\Temp\\ipykernel_133284\\1367946636.py:35: WavFileWarning: Chunk (non-data) not understood, skipping it.\n",
      "  sr, waveform = wavfile.read(input_file_path)\n",
      "Processing class '_background_noise_': 100%|██████████| 7/7 [00:00<00:00, 22.63it/s]\n"
     ]
    }
   ],
   "source": [
    "import os\n",
    "import torch\n",
    "from scipy.io import wavfile\n",
    "from torchaudio.transforms import MelSpectrogram\n",
    "import librosa\n",
    "from tqdm import tqdm\n",
    "\n",
    "input_base_dir = \"../data/raw/train/audio\"\n",
    "output_base_dir = \"../data/processed/train/audio\"\n",
    "sample_rate = 16000\n",
    "mel_transform = MelSpectrogram(sample_rate=sample_rate)\n",
    "\n",
    "os.makedirs(output_base_dir, exist_ok=True)\n",
    "\n",
    "\n",
    "def process_audio_to_mel(input_dir, output_dir, transform):\n",
    "    print(f\"Processing audio files from {input_dir} to {output_dir}\")\n",
    "    log = []\n",
    "\n",
    "    for root, dirs, files in os.walk(input_dir):\n",
    "        label = os.path.basename(root)\n",
    "\n",
    "        # 🚨 Skip _background_noise_ 🚨\n",
    "        if label == \"_background_noise_\":\n",
    "            continue\n",
    "\n",
    "        if files:\n",
    "            print(f\"Processing directory: {root}\")\n",
    "            output_label_dir = os.path.join(output_dir, label)\n",
    "            os.makedirs(output_label_dir, exist_ok=True)\n",
    "\n",
    "            for file in tqdm(files, desc=f\"Processing class '{label}'\"):\n",
    "                if file.endswith(\".wav\"):\n",
    "                    input_file_path = os.path.join(root, file)\n",
    "                    try:\n",
    "                        sr, waveform = wavfile.read(input_file_path)\n",
    "                        if len(waveform.shape) > 1:\n",
    "                            waveform = waveform[:, 0]  # Take first channel\n",
    "                        if sr != sample_rate:\n",
    "                            waveform = librosa.resample(\n",
    "                                waveform.astype(float),\n",
    "                                orig_sr=sr,\n",
    "                                target_sr=sample_rate,\n",
    "                            )\n",
    "                        waveform = torch.tensor(waveform, dtype=torch.float32)\n",
    "                        mel_spec = transform(waveform)\n",
    "                        output_file_path = os.path.join(\n",
    "                            output_label_dir, f\"{os.path.splitext(file)[0]}.pt\"\n",
    "                        )\n",
    "                        torch.save(mel_spec, output_file_path)\n",
    "                        log.append(f\"Saved: {output_file_path}\")\n",
    "                    except Exception as e:\n",
    "                        log.append(f\"Failed: {input_file_path} with error {str(e)}\")\n",
    "    return log\n",
    "\n",
    "\n",
    "# Run the main processing\n",
    "log_messages = process_audio_to_mel(input_base_dir, output_base_dir, mel_transform)"
   ]
  },
  {
   "cell_type": "code",
   "execution_count": 3,
   "id": "a8beaa08",
   "metadata": {},
   "outputs": [
    {
     "name": "stdout",
     "output_type": "stream",
     "text": [
      "bed\n",
      "bird\n",
      "cat\n",
      "dog\n",
      "down\n",
      "eight\n",
      "five\n",
      "four\n",
      "go\n",
      "happy\n",
      "house\n",
      "left\n",
      "marvin\n",
      "nine\n",
      "no\n",
      "off\n",
      "on\n",
      "one\n",
      "right\n",
      "seven\n",
      "sheila\n",
      "six\n",
      "stop\n",
      "three\n",
      "tree\n",
      "two\n",
      "up\n",
      "wow\n",
      "yes\n",
      "zero\n",
      "_background_noise_\n"
     ]
    }
   ],
   "source": [
    "import os \n",
    "\n",
    "input_base_dir = \"../data/raw/train/audio\"\n",
    "\n",
    "\n",
    "for files in os.listdir(input_base_dir):\n",
    "    print(files)"
   ]
  },
  {
   "cell_type": "code",
   "execution_count": 2,
   "id": "ad1f89fa",
   "metadata": {},
   "outputs": [
    {
     "name": "stderr",
     "output_type": "stream",
     "text": [
      "c:\\Users\\cypri\\anaconda3\\envs\\Torch_Intro_ML\\Lib\\site-packages\\torchaudio\\functional\\functional.py:584: UserWarning: At least one mel filterbank has all zero values. The value for `n_mels` (128) may be set too high. Or, the value for `n_freqs` (201) may be set too low.\n",
      "  warnings.warn(\n",
      "C:\\Users\\cypri\\AppData\\Local\\Temp\\ipykernel_140884\\2647129792.py:33: WavFileWarning: Chunk (non-data) not understood, skipping it.\n",
      "  sr, waveform = wavfile.read(input_file_path)\n"
     ]
    },
    {
     "name": "stdout",
     "output_type": "stream",
     "text": [
      "Generated 398 silence samples.\n"
     ]
    }
   ],
   "source": [
    "import os\n",
    "import torch\n",
    "from scipy.io import wavfile\n",
    "from torchaudio.transforms import MelSpectrogram\n",
    "import librosa\n",
    "from tqdm import tqdm\n",
    "\n",
    "input_base_dir = \"../data/raw/train/audio\"\n",
    "output_base_dir = \"../data/processed/train/audio\"\n",
    "sample_rate = 16000\n",
    "mel_transform = MelSpectrogram(sample_rate=sample_rate)\n",
    "\n",
    "os.makedirs(output_base_dir, exist_ok=True)\n",
    "\n",
    "\n",
    "def process_background_noise(\n",
    "    input_dir, output_dir, transform, sample_rate=16000, chunk_duration=1\n",
    "):\n",
    "    background_dir = os.path.join(input_dir, \"_background_noise_\")\n",
    "    silence_output_dir = os.path.join(\n",
    "        output_dir, \"silence\"\n",
    "    )  # Save into a new \"silence\" folder\n",
    "    os.makedirs(silence_output_dir, exist_ok=True)\n",
    "\n",
    "    chunk_size = sample_rate * chunk_duration\n",
    "    counter = 0\n",
    "    log = []\n",
    "\n",
    "    for file in os.listdir(background_dir):\n",
    "        if file.endswith(\".wav\"):\n",
    "            input_file_path = os.path.join(background_dir, file)\n",
    "            try:\n",
    "                sr, waveform = wavfile.read(input_file_path)\n",
    "                if len(waveform.shape) > 1:\n",
    "                    waveform = waveform[:, 0]\n",
    "                if sr != sample_rate:\n",
    "                    waveform = librosa.resample(\n",
    "                        waveform.astype(float), orig_sr=sr, target_sr=sample_rate\n",
    "                    )\n",
    "                waveform = torch.tensor(waveform, dtype=torch.float32)\n",
    "\n",
    "                total_chunks = len(waveform) // chunk_size\n",
    "\n",
    "                for i in range(total_chunks):\n",
    "                    chunk = waveform[i * chunk_size : (i + 1) * chunk_size]\n",
    "                    mel_spec = transform(chunk)\n",
    "                    output_file_path = os.path.join(\n",
    "                        silence_output_dir, f\"silence_{counter:04d}.pt\"\n",
    "                    )\n",
    "                    torch.save(mel_spec, output_file_path)\n",
    "                    counter += 1\n",
    "                    log.append(f\"Saved silence: {output_file_path}\")\n",
    "\n",
    "            except Exception as e:\n",
    "                log.append(f\"Failed: {input_file_path} with error {str(e)}\")\n",
    "\n",
    "    print(f\"Generated {counter} silence samples.\")\n",
    "    return log\n",
    "\n",
    "# Process background noise\n",
    "# After running process_audio_to_mel\n",
    "log_silence = process_background_noise(input_base_dir, output_base_dir, mel_transform)"
   ]
  },
  {
   "cell_type": "code",
   "execution_count": null,
   "id": "5faa44ec",
   "metadata": {},
   "outputs": [],
   "source": []
  }
 ],
 "metadata": {
  "kernelspec": {
   "display_name": "Torch_Intro_ML",
   "language": "python",
   "name": "python3"
  },
  "language_info": {
   "codemirror_mode": {
    "name": "ipython",
    "version": 3
   },
   "file_extension": ".py",
   "mimetype": "text/x-python",
   "name": "python",
   "nbconvert_exporter": "python",
   "pygments_lexer": "ipython3",
   "version": "3.12.7"
  }
 },
 "nbformat": 4,
 "nbformat_minor": 5
}
