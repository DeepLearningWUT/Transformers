{
 "cells": [
  {
   "cell_type": "code",
   "execution_count": 1,
   "id": "77bfbc28",
   "metadata": {},
   "outputs": [],
   "source": [
    "import os\n",
    "import torch\n",
    "from torch.utils.data import Dataset\n",
    "\n",
    "\n",
    "class YesNoDataset(Dataset):\n",
    "    def __init__(self, base_dir, test_list_path=None, return_label_name=False, train=True):\n",
    "        self.filepaths = []\n",
    "        self.labels = []\n",
    "        self.label_to_index = {\"no\": 0, \"yes\": 1}\n",
    "        self.index_to_label = {0: \"no\", 1: \"yes\"}\n",
    "        self.return_label_name = return_label_name\n",
    "\n",
    "        included_files = set()\n",
    "\n",
    "        # Load filenames from testing_list.txt if provided\n",
    "        if test_list_path and os.path.exists(test_list_path):\n",
    "            with open(test_list_path, \"r\") as f:\n",
    "                for line in f:\n",
    "                    if line.startswith((\"yes/\", \"no/\")):\n",
    "                        file_name = os.path.splitext(os.path.basename(line.strip()))[0] + \".pt\"\n",
    "                        included_files.add(file_name)\n",
    "\n",
    "        for label in [\"no\", \"yes\"]:\n",
    "            label_path = os.path.join(base_dir, label)\n",
    "            if not os.path.isdir(label_path):\n",
    "                continue\n",
    "            for file in os.listdir(label_path):\n",
    "                if file.endswith(\".pt\"):\n",
    "                    if (train and file not in included_files) or (not train and file in included_files):\n",
    "                        self.filepaths.append(os.path.join(label_path, file))\n",
    "                        self.labels.append(self.label_to_index[label])\n",
    "\n",
    "    def __len__(self):\n",
    "        return len(self.filepaths)\n",
    "\n",
    "    def __getitem__(self, idx):\n",
    "        spectrogram = torch.load(self.filepaths[idx])\n",
    "        label_index = self.labels[idx]\n",
    "        return spectrogram, (\n",
    "            self.index_to_label[label_index] if self.return_label_name else label_index\n",
    "        )\n"
   ]
  },
  {
   "cell_type": "code",
   "execution_count": 2,
   "id": "6534c11b",
   "metadata": {},
   "outputs": [],
   "source": [
    "def pad_collate(batch):\n",
    "    specs, labels = zip(*batch)\n",
    "    max_len = max(spec.shape[-1] for spec in specs)\n",
    "    padded_specs = []\n",
    "\n",
    "    for spec in specs:\n",
    "        pad_len = max_len - spec.shape[-1]\n",
    "        padded_spec = torch.nn.functional.pad(spec, (0, pad_len), value=0)\n",
    "        padded_specs.append(padded_spec)\n",
    "\n",
    "    return torch.stack(padded_specs), list(labels)"
   ]
  },
  {
   "cell_type": "code",
   "execution_count": 3,
   "id": "771cf396",
   "metadata": {},
   "outputs": [
    {
     "name": "stdout",
     "output_type": "stream",
     "text": [
      "Spectrogram shape: torch.Size([16, 128, 81])\n",
      "Labels: [1, 1, 0, 1, 1, 1, 0, 1, 0, 0, 1, 0, 0, 0, 0, 1]\n"
     ]
    },
    {
     "name": "stderr",
     "output_type": "stream",
     "text": [
      "C:\\Users\\cypri\\AppData\\Local\\Temp\\ipykernel_148012\\963970987.py:38: FutureWarning: You are using `torch.load` with `weights_only=False` (the current default value), which uses the default pickle module implicitly. It is possible to construct malicious pickle data which will execute arbitrary code during unpickling (See https://github.com/pytorch/pytorch/blob/main/SECURITY.md#untrusted-models for more details). In a future release, the default value for `weights_only` will be flipped to `True`. This limits the functions that could be executed during unpickling. Arbitrary objects will no longer be allowed to be loaded via this mode unless they are explicitly allowlisted by the user via `torch.serialization.add_safe_globals`. We recommend you start setting `weights_only=True` for any use case where you don't have full control of the loaded file. Please open an issue on GitHub for any issues related to this experimental feature.\n",
      "  spectrogram = torch.load(self.filepaths[idx])\n"
     ]
    }
   ],
   "source": [
    "from torch.utils.data import DataLoader\n",
    "\n",
    "base_path = \"../data/processed/train/audio\"\n",
    "test_list_path = \"../data/raw/train/testing_list.txt\"\n",
    "\n",
    "train_dataset = YesNoDataset(base_path, test_list_path=test_list_path, return_label_name=False)\n",
    "train_loader = DataLoader(\n",
    "    train_dataset, batch_size=16, shuffle=True, collate_fn=pad_collate\n",
    ")\n",
    "test_loader = DataLoader(\n",
    "    YesNoDataset(base_path, test_list_path=test_list_path, return_label_name=False, train=False),\n",
    "    batch_size=16, shuffle=False, collate_fn=pad_collate\n",
    ")\n",
    "\n",
    "for spectrograms, labels in train_loader:\n",
    "    print(\"Spectrogram shape:\", spectrograms.shape)\n",
    "    print(\"Labels:\", labels)\n",
    "    break"
   ]
  },
  {
   "cell_type": "code",
   "execution_count": 4,
   "id": "2a659c89",
   "metadata": {},
   "outputs": [
    {
     "data": {
      "text/plain": [
       "(4244, 508)"
      ]
     },
     "execution_count": 4,
     "metadata": {},
     "output_type": "execute_result"
    }
   ],
   "source": [
    "len(train_loader.dataset), len(test_loader.dataset)"
   ]
  },
  {
   "cell_type": "code",
   "execution_count": 5,
   "id": "00abd639",
   "metadata": {},
   "outputs": [
    {
     "name": "stdout",
     "output_type": "stream",
     "text": [
      "Number of 'yes' files: 2377\n",
      "Number of 'no' files: 2375\n",
      "we have removed 496 files from the train dataset to put them in the test set\n"
     ]
    }
   ],
   "source": [
    "yes_base_path = \"../data/processed/train/audio/yes\"\n",
    "number_of_yes_files = len([f for f in os.listdir(yes_base_path) if f.endswith(\".pt\")])\n",
    "print(f\"Number of 'yes' files: {number_of_yes_files}\")\n",
    "no_base_path = \"../data/processed/train/audio/no\"\n",
    "number_of_no_files = len([f for f in os.listdir(no_base_path) if f.endswith(\".pt\")])\n",
    "print(f\"Number of 'no' files: {number_of_no_files}\")\n",
    "print(f\"we have removed {number_of_yes_files + number_of_no_files - 266*16} files from the train dataset to put them in the test set\") \n"
   ]
  },
  {
   "cell_type": "code",
   "execution_count": 6,
   "id": "b6d7e9fe",
   "metadata": {},
   "outputs": [],
   "source": [
    "import sys\n",
    "import os\n",
    "\n",
    "sys.path.append(os.path.abspath(os.path.join(os.getcwd(), \"..\")))\n",
    "\n",
    "from models import CNNRNNClassifier\n",
    "\n",
    "\n",
    "model = CNNRNNClassifier(\n",
    "    num_classes=2, input_freq_bins=128\n",
    ")  \n"
   ]
  },
  {
   "cell_type": "code",
   "execution_count": 7,
   "id": "bb8db324",
   "metadata": {},
   "outputs": [],
   "source": [
    "import os\n",
    "import torch\n",
    "import torch.nn as nn\n",
    "from torch.utils.data import DataLoader\n",
    "import torch.optim as optim\n",
    "import sys\n",
    "import os\n",
    "\n",
    "sys.path.append(os.path.abspath(os.path.join(os.getcwd(), \"..\")))\n",
    "\n",
    "from models import CNNRNNClassifier\n",
    "from mlflow_tracking.tracking_utils import (\n",
    "    mlflow_run,\n",
    "    log_metrics,\n",
    "    log_learning_curves,\n",
    "    log_confusion_matrix,\n",
    "    log_checkpoint_model,\n",
    ")"
   ]
  },
  {
   "cell_type": "code",
   "execution_count": 8,
   "id": "129fffc3",
   "metadata": {},
   "outputs": [],
   "source": [
    "import os \n",
    "config = {\n",
    "    \"experiment_name\": \"speech-commands-yesno\",\n",
    "    \"run_name\": \"cnn-rnn-v1\",\n",
    "    \n",
    "    \"registered_model_name\": \"YesNoClassifier\",\n",
    "    \"num_epochs\": 6,\n",
    "    \"learning_rate\": 0.002,\n",
    "    \"batch_size\": 32,\n",
    "}\n"
   ]
  },
  {
   "cell_type": "code",
   "execution_count": 9,
   "id": "43999c5c",
   "metadata": {},
   "outputs": [],
   "source": [
    "class EarlyStopper:\n",
    "    def __init__(self, patience=5, min_delta=0.0):\n",
    "        self.patience = patience\n",
    "        self.min_delta = min_delta\n",
    "        self.counter = 0\n",
    "        self.best_score = None\n",
    "        self.best_epoch = -1\n",
    "\n",
    "    def should_stop(self, score, epoch):\n",
    "        if self.best_score is None or score > self.best_score + self.min_delta:\n",
    "            self.best_score = score\n",
    "            self.best_epoch = epoch\n",
    "            self.counter = 0\n",
    "            return False\n",
    "        else:\n",
    "            self.counter += 1\n",
    "            return self.counter >= self.patience"
   ]
  },
  {
   "cell_type": "code",
   "execution_count": 10,
   "id": "f6ebed60",
   "metadata": {},
   "outputs": [],
   "source": [
    "import time \n",
    "\n",
    "@mlflow_run(config)\n",
    "def train():\n",
    "    model = CNNRNNClassifier(num_classes=2, input_freq_bins=128)\n",
    "    criterion = nn.CrossEntropyLoss()\n",
    "    optimizer = optim.Adam(model.parameters(), lr=config[\"learning_rate\"])\n",
    "    device = torch.device(\"cuda\" if torch.cuda.is_available() else \"cpu\")\n",
    "    model.to(device)\n",
    "\n",
    "    train_losses = []\n",
    "    test_losses = []\n",
    "    train_accuracies = []\n",
    "    test_accuracies = []\n",
    "\n",
    "    early_stopper = EarlyStopper(patience=5, min_delta=0.001)\n",
    "    best_model_path = None\n",
    "\n",
    "    for epoch in range(config[\"num_epochs\"]):\n",
    "        model.train()\n",
    "        running_loss = 0.0\n",
    "        correct = 0\n",
    "        total = 0\n",
    "        start_time = time.time()\n",
    "\n",
    "        for X, y in train_loader:\n",
    "            X, y = X.to(device), torch.tensor(y).to(device)\n",
    "            optimizer.zero_grad()\n",
    "            outputs = model(X)\n",
    "            loss = criterion(outputs, y)\n",
    "            loss.backward()\n",
    "            optimizer.step()\n",
    "\n",
    "            running_loss += loss.item()\n",
    "            _, predicted = outputs.max(1)\n",
    "            correct += predicted.eq(y).sum().item()\n",
    "            total += y.size(0)\n",
    "\n",
    "        avg_loss = running_loss / len(train_loader)\n",
    "        train_acc = correct / total\n",
    "        elapsed_time = time.time() - start_time\n",
    "\n",
    "        # 🔍 Evaluate on test set\n",
    "        model.eval()\n",
    "        test_correct = 0\n",
    "        test_total = 0\n",
    "        test_running_loss = 0.0\n",
    "        with torch.no_grad():\n",
    "            for X_test, y_test in test_loader:\n",
    "                X_test, y_test = X_test.to(device), torch.tensor(y_test).to(device)\n",
    "                out = model(X_test)\n",
    "                loss = criterion(out, y_test)  \n",
    "                test_running_loss += loss.item()  \n",
    "                pred = out.argmax(dim=1)\n",
    "                test_correct += pred.eq(y_test).sum().item()\n",
    "                test_total += y_test.size(0)\n",
    "        test_acc = test_correct / test_total\n",
    "        test_loss = test_running_loss / len(test_loader) \n",
    "\n",
    "        test_losses.append(test_loss)\n",
    "        train_losses.append(avg_loss)\n",
    "        train_accuracies.append(train_acc)\n",
    "        test_accuracies.append(test_acc)\n",
    "\n",
    "        log_metrics(\n",
    "            {\n",
    "                \"loss\": avg_loss,\n",
    "                \"test_loss\": test_loss,\n",
    "                \"accuracy\": train_acc,\n",
    "                \"test_accuracy\": test_acc,\n",
    "                \"epoch_time_sec\": elapsed_time,\n",
    "            },\n",
    "            step=epoch,\n",
    "        )\n",
    "\n",
    "        print(f\"Epoch {epoch+1}/{config['num_epochs']}, Time: {elapsed_time:.2f}s\")\n",
    "        print(f\"Train Acc: {train_acc:.4f}, Test Acc: {test_acc:.4f}\")\n",
    "\n",
    "        # 💾 Save best model so far\n",
    "\n",
    "        best_model_path = log_checkpoint_model(model, epoch)\n",
    "\n",
    "        # ⏹️ Early stopping\n",
    "        if early_stopper.should_stop(test_acc, epoch):\n",
    "            print(\n",
    "                f\"Early stopping at epoch {epoch+1} — no improvement for {early_stopper.patience} epochs.\"\n",
    "            )\n",
    "            break\n",
    "\n",
    "    log_learning_curves(\n",
    "        train_metrics={\"loss\": train_losses, \"accuracy\": train_accuracies},\n",
    "        val_metrics={\"loss\": test_losses, \"accuracy\": test_accuracies},\n",
    "    )\n",
    "\n",
    "    return {\"model\": model, \"best_model_path\": best_model_path}"
   ]
  },
  {
   "cell_type": "code",
   "execution_count": 11,
   "id": "fa36bc06",
   "metadata": {},
   "outputs": [
    {
     "name": "stderr",
     "output_type": "stream",
     "text": [
      "C:\\Users\\cypri\\AppData\\Local\\Temp\\ipykernel_148012\\963970987.py:38: FutureWarning: You are using `torch.load` with `weights_only=False` (the current default value), which uses the default pickle module implicitly. It is possible to construct malicious pickle data which will execute arbitrary code during unpickling (See https://github.com/pytorch/pytorch/blob/main/SECURITY.md#untrusted-models for more details). In a future release, the default value for `weights_only` will be flipped to `True`. This limits the functions that could be executed during unpickling. Arbitrary objects will no longer be allowed to be loaded via this mode unless they are explicitly allowlisted by the user via `torch.serialization.add_safe_globals`. We recommend you start setting `weights_only=True` for any use case where you don't have full control of the loaded file. Please open an issue on GitHub for any issues related to this experimental feature.\n",
      "  spectrogram = torch.load(self.filepaths[idx])\n"
     ]
    },
    {
     "name": "stdout",
     "output_type": "stream",
     "text": [
      "Epoch 1/6, Time: 32.85s\n",
      "Train Acc: 0.8742, Test Acc: 0.6654\n",
      "Epoch 2/6, Time: 33.49s\n",
      "Train Acc: 0.9444, Test Acc: 0.5846\n",
      "Epoch 3/6, Time: 31.96s\n",
      "Train Acc: 0.9533, Test Acc: 0.6260\n",
      "Epoch 4/6, Time: 32.56s\n",
      "Train Acc: 0.9621, Test Acc: 0.8406\n",
      "Epoch 5/6, Time: 32.26s\n",
      "Train Acc: 0.9720, Test Acc: 0.8504\n",
      "Epoch 6/6, Time: 31.93s\n",
      "Train Acc: 0.9696, Test Acc: 0.8425\n"
     ]
    },
    {
     "name": "stderr",
     "output_type": "stream",
     "text": [
      "2025/04/25 17:10:37 WARNING mlflow.models.model: Model logged without a signature and input example. Please set `input_example` parameter when logging the model to auto infer the model signature.\n",
      "Registered model 'YesNoClassifier' already exists. Creating a new version of this model...\n",
      "Created version '2' of model 'YesNoClassifier'.\n"
     ]
    },
    {
     "data": {
      "text/plain": [
       "{'model': CNNRNNClassifier(\n",
       "   (cnn): Sequential(\n",
       "     (0): Conv2d(1, 32, kernel_size=(3, 3), stride=(1, 1), padding=(1, 1))\n",
       "     (1): BatchNorm2d(32, eps=1e-05, momentum=0.1, affine=True, track_running_stats=True)\n",
       "     (2): ReLU()\n",
       "     (3): MaxPool2d(kernel_size=(2, 2), stride=(2, 2), padding=0, dilation=1, ceil_mode=False)\n",
       "     (4): Conv2d(32, 64, kernel_size=(3, 3), stride=(1, 1), padding=(1, 1))\n",
       "     (5): BatchNorm2d(64, eps=1e-05, momentum=0.1, affine=True, track_running_stats=True)\n",
       "     (6): ReLU()\n",
       "     (7): MaxPool2d(kernel_size=(2, 2), stride=(2, 2), padding=0, dilation=1, ceil_mode=False)\n",
       "   )\n",
       "   (rnn): GRU(2048, 128, batch_first=True, bidirectional=True)\n",
       "   (classifier): Sequential(\n",
       "     (0): Linear(in_features=256, out_features=128, bias=True)\n",
       "     (1): ReLU()\n",
       "     (2): Dropout(p=0.3, inplace=False)\n",
       "     (3): Linear(in_features=128, out_features=2, bias=True)\n",
       "   )\n",
       " ),\n",
       " 'best_model_path': 'checkpoints\\\\model_epoch_5.pth'}"
      ]
     },
     "execution_count": 11,
     "metadata": {},
     "output_type": "execute_result"
    }
   ],
   "source": [
    "train()"
   ]
  },
  {
   "cell_type": "code",
   "execution_count": null,
   "id": "68390dcf",
   "metadata": {},
   "outputs": [],
   "source": []
  },
  {
   "cell_type": "code",
   "execution_count": null,
   "id": "ea579e05",
   "metadata": {},
   "outputs": [],
   "source": []
  }
 ],
 "metadata": {
  "kernelspec": {
   "display_name": "Torch_Intro_ML",
   "language": "python",
   "name": "python3"
  },
  "language_info": {
   "codemirror_mode": {
    "name": "ipython",
    "version": 3
   },
   "file_extension": ".py",
   "mimetype": "text/x-python",
   "name": "python",
   "nbconvert_exporter": "python",
   "pygments_lexer": "ipython3",
   "version": "3.12.7"
  }
 },
 "nbformat": 4,
 "nbformat_minor": 5
}
