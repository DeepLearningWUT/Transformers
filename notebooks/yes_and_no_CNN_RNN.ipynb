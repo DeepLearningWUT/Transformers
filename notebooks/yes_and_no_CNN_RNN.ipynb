{
 "cells": [
  {
   "cell_type": "code",
   "execution_count": 1,
   "id": "77bfbc28",
   "metadata": {},
   "outputs": [],
   "source": [
    "import os\n",
    "import torch\n",
    "from torch.utils.data import Dataset\n",
    "\n",
    "\n",
    "class YesNoDataset(Dataset):\n",
    "    def __init__(self, base_dir, test_list_path=None, return_label_name=False):\n",
    "        self.filepaths = []\n",
    "        self.labels = []\n",
    "        self.label_to_index = {\"no\": 0, \"yes\": 1}\n",
    "        self.index_to_label = {0: \"no\", 1: \"yes\"}\n",
    "        self.return_label_name = return_label_name\n",
    "\n",
    "        # Prepare exclusion set from testing_list.txt\n",
    "        excluded_filenames = set()\n",
    "        if test_list_path and os.path.exists(test_list_path):\n",
    "            with open(test_list_path, \"r\") as f:\n",
    "                for line in f:\n",
    "                    if line.startswith((\"yes/\", \"no/\")):\n",
    "                        file_name = (\n",
    "                            os.path.splitext(os.path.basename(line.strip()))[0] + \".pt\"\n",
    "                        )\n",
    "                        excluded_filenames.add(file_name)\n",
    "\n",
    "        # Load filepaths and labels\n",
    "        for label in [\"no\", \"yes\"]:\n",
    "            label_path = os.path.join(base_dir, label)\n",
    "            if os.path.isdir(label_path):\n",
    "                for file in os.listdir(label_path):\n",
    "                    if file.endswith(\".pt\") and file not in excluded_filenames:\n",
    "                        self.filepaths.append(os.path.join(label_path, file))\n",
    "                        self.labels.append(self.label_to_index[label])\n",
    "\n",
    "    def __len__(self):\n",
    "        return len(self.filepaths)\n",
    "\n",
    "    def __getitem__(self, idx):\n",
    "        spectrogram = torch.load(self.filepaths[idx])\n",
    "        label_index = self.labels[idx]\n",
    "        return spectrogram, (\n",
    "            self.index_to_label[label_index] if self.return_label_name else label_index\n",
    "        )"
   ]
  },
  {
   "cell_type": "code",
   "execution_count": 2,
   "id": "6534c11b",
   "metadata": {},
   "outputs": [],
   "source": [
    "def pad_collate(batch):\n",
    "    specs, labels = zip(*batch)\n",
    "    max_len = max(spec.shape[-1] for spec in specs)\n",
    "    padded_specs = []\n",
    "\n",
    "    for spec in specs:\n",
    "        pad_len = max_len - spec.shape[-1]\n",
    "        padded_spec = torch.nn.functional.pad(spec, (0, pad_len), value=0)\n",
    "        padded_specs.append(padded_spec)\n",
    "\n",
    "    return torch.stack(padded_specs), list(labels)"
   ]
  },
  {
   "cell_type": "code",
   "execution_count": 3,
   "id": "771cf396",
   "metadata": {},
   "outputs": [
    {
     "name": "stdout",
     "output_type": "stream",
     "text": [
      "Spectrogram shape: torch.Size([16, 128, 81])\n",
      "Labels: [0, 0, 1, 0, 0, 1, 0, 1, 0, 0, 1, 1, 1, 0, 1, 1]\n"
     ]
    },
    {
     "name": "stderr",
     "output_type": "stream",
     "text": [
      "C:\\Users\\cypri\\AppData\\Local\\Temp\\ipykernel_138444\\3887102196.py:38: FutureWarning: You are using `torch.load` with `weights_only=False` (the current default value), which uses the default pickle module implicitly. It is possible to construct malicious pickle data which will execute arbitrary code during unpickling (See https://github.com/pytorch/pytorch/blob/main/SECURITY.md#untrusted-models for more details). In a future release, the default value for `weights_only` will be flipped to `True`. This limits the functions that could be executed during unpickling. Arbitrary objects will no longer be allowed to be loaded via this mode unless they are explicitly allowlisted by the user via `torch.serialization.add_safe_globals`. We recommend you start setting `weights_only=True` for any use case where you don't have full control of the loaded file. Please open an issue on GitHub for any issues related to this experimental feature.\n",
      "  spectrogram = torch.load(self.filepaths[idx])\n"
     ]
    }
   ],
   "source": [
    "from torch.utils.data import DataLoader\n",
    "\n",
    "base_path = \"../data/processed/train/audio\"\n",
    "test_list_path = \"../data/raw/train/testing_list.txt\"\n",
    "\n",
    "train_dataset = YesNoDataset(base_path, test_list_path=test_list_path, return_label_name=False)\n",
    "train_loader = DataLoader(\n",
    "    train_dataset, batch_size=16, shuffle=True, collate_fn=pad_collate\n",
    ")\n",
    "\n",
    "for spectrograms, labels in train_loader:\n",
    "    print(\"Spectrogram shape:\", spectrograms.shape)\n",
    "    print(\"Labels:\", labels)\n",
    "    break"
   ]
  },
  {
   "cell_type": "code",
   "execution_count": 4,
   "id": "00abd639",
   "metadata": {},
   "outputs": [
    {
     "name": "stdout",
     "output_type": "stream",
     "text": [
      "Number of 'yes' files: 2377\n",
      "Number of 'no' files: 2375\n",
      "we have removed 496 files from the train dataset to put them in the test set\n"
     ]
    }
   ],
   "source": [
    "yes_base_path = \"../data/processed/train/audio/yes\"\n",
    "number_of_yes_files = len([f for f in os.listdir(yes_base_path) if f.endswith(\".pt\")])\n",
    "print(f\"Number of 'yes' files: {number_of_yes_files}\")\n",
    "no_base_path = \"../data/processed/train/audio/no\"\n",
    "number_of_no_files = len([f for f in os.listdir(no_base_path) if f.endswith(\".pt\")])\n",
    "print(f\"Number of 'no' files: {number_of_no_files}\")\n",
    "print(f\"we have removed {number_of_yes_files + number_of_no_files - 266*16} files from the train dataset to put them in the test set\") \n"
   ]
  },
  {
   "cell_type": "code",
   "execution_count": 5,
   "id": "b6d7e9fe",
   "metadata": {},
   "outputs": [],
   "source": [
    "import sys\n",
    "import os\n",
    "\n",
    "sys.path.append(os.path.abspath(os.path.join(os.getcwd(), \"..\")))\n",
    "\n",
    "from models import CNNRNNClassifier\n",
    "\n",
    "\n",
    "model = CNNRNNClassifier(\n",
    "    num_classes=2, input_freq_bins=128\n",
    ")  \n"
   ]
  },
  {
   "cell_type": "code",
   "execution_count": 6,
   "id": "bb8db324",
   "metadata": {},
   "outputs": [],
   "source": [
    "import os\n",
    "import torch\n",
    "import torch.nn as nn\n",
    "from torch.utils.data import DataLoader\n",
    "import torch.optim as optim\n",
    "import sys\n",
    "import os\n",
    "\n",
    "sys.path.append(os.path.abspath(os.path.join(os.getcwd(), \"..\")))\n",
    "\n",
    "from models import CNNRNNClassifier\n",
    "from mlflow_tracking.tracking_utils import (\n",
    "    mlflow_run,\n",
    "    log_metrics,\n",
    "    log_learning_curves,\n",
    "    log_confusion_matrix,\n",
    "    log_best_model,\n",
    ")"
   ]
  },
  {
   "cell_type": "code",
   "execution_count": 7,
   "id": "129fffc3",
   "metadata": {},
   "outputs": [],
   "source": [
    "config = {\n",
    "    \"experiment_name\": \"speech-commands-yesno\",\n",
    "    \"run_name\": \"cnn-rnn-v1\",\n",
    "    \n",
    "    \"registered_model_name\": \"YesNoClassifier\",\n",
    "    \"num_epochs\": 10,\n",
    "    \"learning_rate\": 0.001,\n",
    "    \"batch_size\": 32,\n",
    "}"
   ]
  },
  {
   "cell_type": "code",
   "execution_count": 8,
   "id": "f6ebed60",
   "metadata": {},
   "outputs": [],
   "source": [
    "import time\n",
    "\n",
    "@mlflow_run(config)\n",
    "def train():\n",
    "\n",
    "    model = CNNRNNClassifier(num_classes=2, input_freq_bins=128)\n",
    "    criterion = nn.CrossEntropyLoss()\n",
    "    optimizer = optim.Adam(model.parameters(), lr=config[\"learning_rate\"])\n",
    "    device = torch.device(\"cuda\" if torch.cuda.is_available() else \"cpu\")\n",
    "    model.to(device)\n",
    "\n",
    "    train_losses = []\n",
    "    train_accuracies = []\n",
    "\n",
    "    for epoch in range(config[\"num_epochs\"]):\n",
    "        model.train()\n",
    "        running_loss = 0.0\n",
    "        correct = 0\n",
    "        total = 0\n",
    "        start_time = time.time()\n",
    "\n",
    "        for X, y in train_loader:\n",
    "            X, y = X.to(device), torch.tensor(y).to(device)\n",
    "            optimizer.zero_grad()\n",
    "            outputs = model(X)\n",
    "            loss = criterion(outputs, y)\n",
    "            loss.backward()\n",
    "            optimizer.step()\n",
    "\n",
    "            running_loss += loss.item()\n",
    "            _, predicted = outputs.max(1)\n",
    "            correct += predicted.eq(y).sum().item()\n",
    "            total += y.size(0)\n",
    "\n",
    "        avg_loss = running_loss / len(train_loader)\n",
    "        accuracy = correct / total\n",
    "        elapsed_time = time.time() - start_time\n",
    "        print(f\"Epoch {epoch+1}/{config['num_epochs']}, Time: {elapsed_time:.2f}s\")\n",
    "\n",
    "        train_losses.append(avg_loss)\n",
    "        train_accuracies.append(accuracy)\n",
    "\n",
    "        # Logging to MLflow\n",
    "        log_metrics({\"loss\": avg_loss, \"accuracy\": accuracy}, step=epoch)\n",
    "        print(f\"Epoch {epoch+1}: loss={avg_loss:.4f}, accuracy={accuracy:.4f}\")\n",
    "\n",
    "        # Save best model every epoch (you can add logic to keep only best)\n",
    "        best_model_path = log_best_model(model, epoch)\n",
    "\n",
    "    log_learning_curves(\n",
    "    train_metrics={\"loss\": train_losses, \"accuracy\": train_accuracies},\n",
    "    val_metrics={\"loss\": train_losses, \"accuracy\": train_accuracies}\n",
    ")\n",
    "\n",
    "    return {\"model\": model, \"best_model_path\": best_model_path}"
   ]
  },
  {
   "cell_type": "code",
   "execution_count": null,
   "id": "fa36bc06",
   "metadata": {},
   "outputs": [
    {
     "name": "stderr",
     "output_type": "stream",
     "text": [
      "2025/04/25 14:21:59 INFO mlflow.tracking.fluent: Experiment with name 'speech-commands-yesno' does not exist. Creating a new experiment.\n"
     ]
    },
    {
     "name": "stderr",
     "output_type": "stream",
     "text": [
      "C:\\Users\\cypri\\AppData\\Local\\Temp\\ipykernel_138444\\3887102196.py:38: FutureWarning: You are using `torch.load` with `weights_only=False` (the current default value), which uses the default pickle module implicitly. It is possible to construct malicious pickle data which will execute arbitrary code during unpickling (See https://github.com/pytorch/pytorch/blob/main/SECURITY.md#untrusted-models for more details). In a future release, the default value for `weights_only` will be flipped to `True`. This limits the functions that could be executed during unpickling. Arbitrary objects will no longer be allowed to be loaded via this mode unless they are explicitly allowlisted by the user via `torch.serialization.add_safe_globals`. We recommend you start setting `weights_only=True` for any use case where you don't have full control of the loaded file. Please open an issue on GitHub for any issues related to this experimental feature.\n",
      "  spectrogram = torch.load(self.filepaths[idx])\n"
     ]
    },
    {
     "name": "stdout",
     "output_type": "stream",
     "text": [
      "Epoch 1/10, Time: 33.96s\n",
      "Epoch 1: loss=0.2867, accuracy=0.8534\n"
     ]
    },
    {
     "name": "stderr",
     "output_type": "stream",
     "text": [
      "2025/04/25 14:22:44 WARNING mlflow.models.model: Model logged without a signature and input example. Please set `input_example` parameter when logging the model to auto infer the model signature.\n"
     ]
    },
    {
     "name": "stdout",
     "output_type": "stream",
     "text": [
      "Epoch 2/10, Time: 41.44s\n",
      "Epoch 2: loss=0.1234, accuracy=0.9402\n"
     ]
    },
    {
     "name": "stderr",
     "output_type": "stream",
     "text": [
      "2025/04/25 14:23:32 WARNING mlflow.models.model: Model logged without a signature and input example. Please set `input_example` parameter when logging the model to auto infer the model signature.\n"
     ]
    }
   ],
   "source": [
    "train()"
   ]
  },
  {
   "cell_type": "code",
   "execution_count": null,
   "id": "68390dcf",
   "metadata": {},
   "outputs": [],
   "source": []
  },
  {
   "cell_type": "code",
   "execution_count": null,
   "id": "ea579e05",
   "metadata": {},
   "outputs": [],
   "source": []
  }
 ],
 "metadata": {
  "kernelspec": {
   "display_name": "Torch_Intro_ML",
   "language": "python",
   "name": "python3"
  },
  "language_info": {
   "codemirror_mode": {
    "name": "ipython",
    "version": 3
   },
   "file_extension": ".py",
   "mimetype": "text/x-python",
   "name": "python",
   "nbconvert_exporter": "python",
   "pygments_lexer": "ipython3",
   "version": "3.12.7"
  }
 },
 "nbformat": 4,
 "nbformat_minor": 5
}
