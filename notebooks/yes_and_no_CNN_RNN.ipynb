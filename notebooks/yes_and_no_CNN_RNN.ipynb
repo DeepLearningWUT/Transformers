{
 "cells": [
  {
   "cell_type": "code",
   "execution_count": 1,
   "id": "77bfbc28",
   "metadata": {},
   "outputs": [],
   "source": [
    "import os\n",
    "import torch\n",
    "from torch.utils.data import Dataset\n",
    "\n",
    "\n",
    "class YesNoDataset(Dataset):\n",
    "    def __init__(self, base_dir, test_list_path=None, return_label_name=False):\n",
    "        self.filepaths = []\n",
    "        self.labels = []\n",
    "        self.label_to_index = {\"no\": 0, \"yes\": 1}\n",
    "        self.index_to_label = {0: \"no\", 1: \"yes\"}\n",
    "        self.return_label_name = return_label_name\n",
    "\n",
    "        # Prepare exclusion set from testing_list.txt\n",
    "        excluded_filenames = set()\n",
    "        if test_list_path and os.path.exists(test_list_path):\n",
    "            with open(test_list_path, \"r\") as f:\n",
    "                for line in f:\n",
    "                    if line.startswith((\"yes/\", \"no/\")):\n",
    "                        file_name = (\n",
    "                            os.path.splitext(os.path.basename(line.strip()))[0] + \".pt\"\n",
    "                        )\n",
    "                        excluded_filenames.add(file_name)\n",
    "\n",
    "        # Load filepaths and labels\n",
    "        for label in [\"no\", \"yes\"]:\n",
    "            label_path = os.path.join(base_dir, label)\n",
    "            if os.path.isdir(label_path):\n",
    "                for file in os.listdir(label_path):\n",
    "                    if file.endswith(\".pt\") and file not in excluded_filenames:\n",
    "                        self.filepaths.append(os.path.join(label_path, file))\n",
    "                        self.labels.append(self.label_to_index[label])\n",
    "\n",
    "    def __len__(self):\n",
    "        return len(self.filepaths)\n",
    "\n",
    "    def __getitem__(self, idx):\n",
    "        spectrogram = torch.load(self.filepaths[idx])\n",
    "        label_index = self.labels[idx]\n",
    "        return spectrogram, (\n",
    "            self.index_to_label[label_index] if self.return_label_name else label_index\n",
    "        )"
   ]
  },
  {
   "cell_type": "code",
   "execution_count": 2,
   "id": "6534c11b",
   "metadata": {},
   "outputs": [],
   "source": [
    "def pad_collate(batch):\n",
    "    specs, labels = zip(*batch)\n",
    "    max_len = max(spec.shape[-1] for spec in specs)\n",
    "    padded_specs = []\n",
    "\n",
    "    for spec in specs:\n",
    "        pad_len = max_len - spec.shape[-1]\n",
    "        padded_spec = torch.nn.functional.pad(spec, (0, pad_len), value=0)\n",
    "        padded_specs.append(padded_spec)\n",
    "\n",
    "    return torch.stack(padded_specs), list(labels)"
   ]
  },
  {
   "cell_type": "code",
   "execution_count": 3,
   "id": "771cf396",
   "metadata": {},
   "outputs": [
    {
     "name": "stderr",
     "output_type": "stream",
     "text": [
      "C:\\Users\\cypri\\AppData\\Local\\Temp\\ipykernel_136168\\3887102196.py:38: FutureWarning: You are using `torch.load` with `weights_only=False` (the current default value), which uses the default pickle module implicitly. It is possible to construct malicious pickle data which will execute arbitrary code during unpickling (See https://github.com/pytorch/pytorch/blob/main/SECURITY.md#untrusted-models for more details). In a future release, the default value for `weights_only` will be flipped to `True`. This limits the functions that could be executed during unpickling. Arbitrary objects will no longer be allowed to be loaded via this mode unless they are explicitly allowlisted by the user via `torch.serialization.add_safe_globals`. We recommend you start setting `weights_only=True` for any use case where you don't have full control of the loaded file. Please open an issue on GitHub for any issues related to this experimental feature.\n",
      "  spectrogram = torch.load(self.filepaths[idx])\n"
     ]
    },
    {
     "name": "stdout",
     "output_type": "stream",
     "text": [
      "Spectrogram shape: torch.Size([16, 128, 81])\n",
      "Labels: ['no', 'yes', 'yes', 'yes', 'yes', 'no', 'no', 'no', 'no', 'no', 'no', 'yes', 'yes', 'yes', 'yes', 'no']\n"
     ]
    }
   ],
   "source": [
    "from torch.utils.data import DataLoader\n",
    "\n",
    "base_path = \"../data/processed/train/audio\"\n",
    "test_list_path = \"../data/raw/train/testing_list.txt\"\n",
    "\n",
    "dataset = YesNoDataset(base_path, test_list_path=test_list_path, return_label_name=True)\n",
    "dataloader = DataLoader(dataset, batch_size=16, shuffle=True, collate_fn=pad_collate)\n",
    "\n",
    "for spectrograms, labels in dataloader:\n",
    "    print(\"Spectrogram shape:\", spectrograms.shape)\n",
    "    print(\"Labels:\", labels)\n",
    "    break"
   ]
  },
  {
   "cell_type": "code",
   "execution_count": 4,
   "id": "00abd639",
   "metadata": {},
   "outputs": [
    {
     "name": "stdout",
     "output_type": "stream",
     "text": [
      "Number of 'yes' files: 2377\n",
      "Number of 'no' files: 2375\n",
      "we have removed 496 files from the train dataset to put them in the test set\n"
     ]
    }
   ],
   "source": [
    "yes_base_path = \"../data/processed/train/audio/yes\"\n",
    "number_of_yes_files = len([f for f in os.listdir(yes_base_path) if f.endswith(\".pt\")])\n",
    "print(f\"Number of 'yes' files: {number_of_yes_files}\")\n",
    "no_base_path = \"../data/processed/train/audio/no\"\n",
    "number_of_no_files = len([f for f in os.listdir(no_base_path) if f.endswith(\".pt\")])\n",
    "print(f\"Number of 'no' files: {number_of_no_files}\")\n",
    "print(f\"we have removed {number_of_yes_files + number_of_no_files - 266*16} files from the train dataset to put them in the test set\") \n"
   ]
  },
  {
   "cell_type": "code",
   "execution_count": null,
   "id": "b6d7e9fe",
   "metadata": {},
   "outputs": [
    {
     "name": "stdout",
     "output_type": "stream",
     "text": [
      "CNNRNNClassifier(\n",
      "  (cnn): Sequential(\n",
      "    (0): Conv2d(1, 32, kernel_size=(3, 3), stride=(1, 1), padding=(1, 1))\n",
      "    (1): BatchNorm2d(32, eps=1e-05, momentum=0.1, affine=True, track_running_stats=True)\n",
      "    (2): ReLU()\n",
      "    (3): MaxPool2d(kernel_size=(2, 2), stride=(2, 2), padding=0, dilation=1, ceil_mode=False)\n",
      "    (4): Conv2d(32, 64, kernel_size=(3, 3), stride=(1, 1), padding=(1, 1))\n",
      "    (5): BatchNorm2d(64, eps=1e-05, momentum=0.1, affine=True, track_running_stats=True)\n",
      "    (6): ReLU()\n",
      "    (7): MaxPool2d(kernel_size=(2, 2), stride=(2, 2), padding=0, dilation=1, ceil_mode=False)\n",
      "  )\n",
      "  (rnn): GRU(2048, 128, batch_first=True, bidirectional=True)\n",
      "  (classifier): Sequential(\n",
      "    (0): Linear(in_features=256, out_features=128, bias=True)\n",
      "    (1): ReLU()\n",
      "    (2): Dropout(p=0.3, inplace=False)\n",
      "    (3): Linear(in_features=128, out_features=2, bias=True)\n",
      "  )\n",
      ")\n"
     ]
    }
   ],
   "source": [
    "import sys\n",
    "import os\n",
    "\n",
    "sys.path.append(os.path.abspath(os.path.join(os.getcwd(), \"..\")))\n",
    "\n",
    "from models import CNNRNNClassifier\n",
    "\n",
    "\n",
    "model = CNNRNNClassifier(\n",
    "    num_classes=2, input_freq_bins=128\n",
    ")  \n"
   ]
  },
  {
   "cell_type": "code",
   "execution_count": null,
   "id": "bb8db324",
   "metadata": {},
   "outputs": [],
   "source": []
  }
 ],
 "metadata": {
  "kernelspec": {
   "display_name": "Torch_Intro_ML",
   "language": "python",
   "name": "python3"
  },
  "language_info": {
   "codemirror_mode": {
    "name": "ipython",
    "version": 3
   },
   "file_extension": ".py",
   "mimetype": "text/x-python",
   "name": "python",
   "nbconvert_exporter": "python",
   "pygments_lexer": "ipython3",
   "version": "3.12.7"
  }
 },
 "nbformat": 4,
 "nbformat_minor": 5
}
