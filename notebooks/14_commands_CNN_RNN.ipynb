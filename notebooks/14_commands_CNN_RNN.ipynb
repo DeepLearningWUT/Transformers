{
 "cells": [
  {
   "cell_type": "code",
   "execution_count": null,
   "id": "2203a087",
   "metadata": {},
   "outputs": [],
   "source": [
    "import os\n",
    "import torch\n",
    "from torch.utils.data import Dataset\n",
    "\n",
    "\n",
    "class fourteen_commands(Dataset):\n",
    "    def __init__(\n",
    "        self, base_dir, test_list_path=None, return_label_name=False, train=True\n",
    "    ):\n",
    "        self.filepaths = []\n",
    "        self.labels = []\n",
    "        self.label_to_index = {\"no\": 0, \"yes\": 1, \"up\": 2, \"down\" : 3, \"left\" : 4, \"right\" : 5, \"on\" : 6, \"off\" : 7, \"stop\" : 8, \"go\" : 9}\n",
    "        self.index_to_label = {0: \"no\", 1: \"yes\", 2: \"up\", 3: \"down\", 4: \"left\", 5: \"right\", 6: \"on\", 7: \"off\", 8: \"stop\", 9: \"go\"}\n",
    "        self.return_label_name = return_label_name\n",
    "\n",
    "        included_files = set()\n",
    "\n",
    "        # Load filenames from testing_list.txt if provided\n",
    "        if test_list_path and os.path.exists(test_list_path):\n",
    "            with open(test_list_path, \"r\") as f:\n",
    "                for line in f:\n",
    "                    \n",
    "                    file_name = (\n",
    "                            os.path.splitext(os.path.basename(line.strip()))[0] + \".pt\"\n",
    "                        )\n",
    "                    included_files.add(file_name)\n",
    "\n",
    "        for label in [\"no\", \"yes\", \"up\", \"down\", \"left\", \"right\", \"on\", \"off\", \"stop\", \"go\"]:\n",
    "            label_path = os.path.join(base_dir, label)\n",
    "            if not os.path.isdir(label_path):\n",
    "                continue\n",
    "            for file in os.listdir(label_path):\n",
    "                if file.endswith(\".pt\"):\n",
    "                    if (train and file not in included_files) or (\n",
    "                        not train and file in included_files\n",
    "                    ):\n",
    "                        self.filepaths.append(os.path.join(label_path, file))\n",
    "                        self.labels.append(self.label_to_index[label])\n",
    "\n",
    "    def __len__(self):\n",
    "        return len(self.filepaths)\n",
    "\n",
    "    def __getitem__(self, idx):\n",
    "        spectrogram = torch.load(self.filepaths[idx])\n",
    "        label_index = self.labels[idx]\n",
    "        return spectrogram, (\n",
    "            self.index_to_label[label_index] if self.return_label_name else label_index\n",
    "        )"
   ]
  }
 ],
 "metadata": {
  "kernelspec": {
   "display_name": "Torch_Intro_ML",
   "language": "python",
   "name": "python3"
  },
  "language_info": {
   "name": "python",
   "version": "3.12.7"
  }
 },
 "nbformat": 4,
 "nbformat_minor": 5
}
